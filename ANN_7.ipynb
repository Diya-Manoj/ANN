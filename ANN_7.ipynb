{
 "cells": [
  {
   "cell_type": "markdown",
   "id": "473b6511",
   "metadata": {},
   "source": [
    "## Assignment 7 - A43"
   ]
  },
  {
   "cell_type": "code",
   "execution_count": 1,
   "id": "d55cb860",
   "metadata": {},
   "outputs": [],
   "source": [
    "import numpy as np"
   ]
  },
  {
   "cell_type": "code",
   "execution_count": 2,
   "id": "0525e56f",
   "metadata": {},
   "outputs": [],
   "source": [
    "#Define Sigmoid Activation Function - Sigmoid squashes inputs into range (0,1).gives the slope at each output, used to adjust weights in the right direction.\n",
    "def sigmoid(x):\n",
    "    return 1/(1+ np.exp(-x))\n",
    "\n",
    "#Define Derivative of Sigmoid Activution Function - derivative is used in backpropagation to compute gradients efficiently.\n",
    "def sigmoid_derivative(x):\n",
    "    return x * (1-x)\n",
    "\n",
    "#Define XOR Function Dataset - XOR truth table (non-linearly separable)\n",
    "X= np.array([[0, 0], [0, 1], [1, 0], [1, 1]])\n",
    "y= np.array([[0], [1], [1], [0]])\n",
    "\n",
    "# Define Neural Network Architecture\n",
    "input_layer_size = 2\n",
    "hidden_layer_size = 2\n",
    "output_layer_size = 1\n",
    "\n",
    "# Initialize Weights and Biases\n",
    "weights1 = np.random.uniform(size=(input_layer_size, hidden_layer_size))\n",
    "bias1 = np.random.uniform(size=(1, hidden_layer_size))\n",
    "weights2 = np.random.uniform(size=(hidden_layer_size, output_layer_size))\n",
    "bias2 = np.random.uniform(size=(1, output_layer_size))\n",
    "\n",
    "# Define Learning Rate and Number of Epochs\n",
    "learning_rate = 0.1\n",
    "epochs = 10000"
   ]
  },
  {
   "cell_type": "code",
   "execution_count": 3,
   "id": "73e8556a",
   "metadata": {},
   "outputs": [
    {
     "name": "stdout",
     "output_type": "stream",
     "text": [
      "\n",
      "Epoch 0\n",
      "Weights1:\n",
      " [[0.02119187 0.5149922 ]\n",
      " [0.75854798 0.78866994]]\n",
      "Bias1: [[0.04099218 0.58861011]]\n",
      "Weights2:\n",
      " [[0.72085734]\n",
      " [0.07021952]]\n",
      "Bias2: [[-0.00618569]]\n",
      "\n",
      "Epoch 2000\n",
      "Weights1:\n",
      " [[0.54800622 0.80911086]\n",
      " [0.86083549 0.98421991]]\n",
      "Bias1: [[0.16236759 0.60187012]]\n",
      "Weights2:\n",
      " [[0.40437766]\n",
      " [0.46240382]]\n",
      "Bias2: [[-0.63255334]]\n",
      "\n",
      "Epoch 4000\n",
      "Weights1:\n",
      " [[1.2641574  2.76146599]\n",
      " [1.38732132 2.77526048]]\n",
      "Bias1: [[ 0.38583324 -0.21578426]]\n",
      "Weights2:\n",
      " [[0.19045886]\n",
      " [2.31915117]]\n",
      "Bias2: [[-1.98186919]]\n",
      "\n",
      "Epoch 6000\n",
      "Weights1:\n",
      " [[1.45618267 4.766788  ]\n",
      " [1.51448768 4.79774522]]\n",
      "Bias1: [[-1.82017726 -0.98937715]]\n",
      "Weights2:\n",
      " [[-3.04934301]\n",
      " [ 4.61584808]]\n",
      "Bias2: [[-2.45935141]]\n",
      "\n",
      "Epoch 8000\n",
      "Weights1:\n",
      " [[3.10896313 5.49309146]\n",
      " [3.11149112 5.51111463]]\n",
      "Bias1: [[-4.68760845 -2.00504569]]\n",
      "Weights2:\n",
      " [[-6.64059418]\n",
      " [ 6.39733228]]\n",
      "Bias2: [[-2.92102259]]\n"
     ]
    }
   ],
   "source": [
    "#Train Neural Network with Back Propagation Algorithm\n",
    "for epoch in range(epochs):\n",
    "    #Forward Propagation\n",
    "    hidden_layer_output = sigmoid(np.dot(X, weights1) + bias1)\n",
    "    output_layer_output = sigmoid(np.dot(hidden_layer_output, weights2) + bias2)\n",
    "    \n",
    "    #Back Propagation\n",
    "    error = y - output_layer_output\n",
    "    output_layer_delta = error * sigmoid_derivative(output_layer_output)\n",
    "    hidden_layer_error = output_layer_delta.dot(weights2.T)\n",
    "    hidden_layer_delta = hidden_layer_error * sigmoid_derivative(hidden_layer_output)\n",
    "\n",
    "    #Update Weights and Biases\n",
    "    weights2 += hidden_layer_output.T.dot(output_layer_delta) * learning_rate\n",
    "    bias2 += np.sum(output_layer_delta, axis=0, keepdims=True) * learning_rate\n",
    "    weights1 += X.T.dot(hidden_layer_delta) * learning_rate\n",
    "    bias1+= np.sum(hidden_layer_delta, axis=0, keepdims=True) * learning_rate\n",
    "    \n",
    "    if epoch % 2000 == 0:\n",
    "        print(f\"\\nEpoch {epoch}\")\n",
    "        print(\"Weights1:\\n\", weights1)\n",
    "        print(\"Bias1:\", bias1)\n",
    "        print(\"Weights2:\\n\", weights2)\n",
    "        print(\"Bias2:\", bias2)"
   ]
  },
  {
   "cell_type": "code",
   "execution_count": 4,
   "id": "e6096f18",
   "metadata": {},
   "outputs": [
    {
     "name": "stdout",
     "output_type": "stream",
     "text": [
      "[[0.]\n",
      " [1.]\n",
      " [1.]\n",
      " [0.]]\n"
     ]
    }
   ],
   "source": [
    "#Predict XOR Function\n",
    "predictions = sigmoid(np.dot(sigmoid(np.dot(X, weights1) + bias1), weights2) + bias2)\n",
    "print(predictions.round())"
   ]
  },
  {
   "cell_type": "code",
   "execution_count": 5,
   "id": "d0720b0c",
   "metadata": {},
   "outputs": [],
   "source": [
    "# Use ReLU activation in hidden layer:\n",
    "def relu(x):\n",
    "    return np.maximum(0, x)\n",
    "\n",
    "def relu_derivative(x):\n",
    "    return np.where(x > 0, 1, 0)\n",
    "\n",
    "def tanh(x): return np.tanh(x)\n",
    "def tanh_derivative(x): return 1 - x ** 2"
   ]
  }
 ],
 "metadata": {
  "kernelspec": {
   "display_name": "Python 3 (ipykernel)",
   "language": "python",
   "name": "python3"
  },
  "language_info": {
   "codemirror_mode": {
    "name": "ipython",
    "version": 3
   },
   "file_extension": ".py",
   "mimetype": "text/x-python",
   "name": "python",
   "nbconvert_exporter": "python",
   "pygments_lexer": "ipython3",
   "version": "3.11.4"
  }
 },
 "nbformat": 4,
 "nbformat_minor": 5
}
