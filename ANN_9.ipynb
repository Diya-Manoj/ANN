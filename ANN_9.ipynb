{
 "cells": [
  {
   "cell_type": "markdown",
   "id": "50e44918",
   "metadata": {},
   "source": [
    "## Assignment 9 - A43"
   ]
  },
  {
   "cell_type": "code",
   "execution_count": 1,
   "id": "9d3b7d5e",
   "metadata": {},
   "outputs": [],
   "source": [
    "import tensorflow as tf\n",
    "import numpy as np\n",
    "import warnings\n",
    "warnings.filterwarnings('ignore')"
   ]
  },
  {
   "cell_type": "code",
   "execution_count": 2,
   "id": "81fc6523",
   "metadata": {},
   "outputs": [],
   "source": [
    "# Generate some random data\n",
    "np.random.seed(0)\n",
    "x = np.random.rand(1000, 2) # 1000 samples, each with 2 features\n",
    "y = np.random.randint(2, size=1000) # Binary target: 0 or 1"
   ]
  },
  {
   "cell_type": "code",
   "execution_count": 3,
   "id": "c43d0f14",
   "metadata": {},
   "outputs": [],
   "source": [
    "#Split the data into training and testing sets\n",
    "x_train, x_test = x[:800], x[800:]\n",
    "y_train, y_test = y[:800], y[800:]"
   ]
  },
  {
   "cell_type": "code",
   "execution_count": 4,
   "id": "e54800b9",
   "metadata": {},
   "outputs": [],
   "source": [
    "#Define the Logistic Regression Model\n",
    "model = tf.keras.Sequential([tf.keras.layers.Dense(1, activation='sigmoid', input_dim=2)])\n",
    "\n",
    "# A single-layer neural network with 1 output neuron.\n",
    "# sigmoid activation maps output to probability [0, 1].\n",
    "# input_dim=2 because each sample has 2 features."
   ]
  },
  {
   "cell_type": "code",
   "execution_count": 5,
   "id": "7851c065",
   "metadata": {},
   "outputs": [
    {
     "name": "stdout",
     "output_type": "stream",
     "text": [
      "Epoch 1/10\n",
      "\u001b[1m25/25\u001b[0m \u001b[32m━━━━━━━━━━━━━━━━━━━━\u001b[0m\u001b[37m\u001b[0m \u001b[1m1s\u001b[0m 2ms/step - accuracy: 0.5242 - loss: 0.7132   \n",
      "Epoch 2/10\n",
      "\u001b[1m25/25\u001b[0m \u001b[32m━━━━━━━━━━━━━━━━━━━━\u001b[0m\u001b[37m\u001b[0m \u001b[1m0s\u001b[0m 2ms/step - accuracy: 0.5303 - loss: 0.6965 \n",
      "Epoch 3/10\n",
      "\u001b[1m25/25\u001b[0m \u001b[32m━━━━━━━━━━━━━━━━━━━━\u001b[0m\u001b[37m\u001b[0m \u001b[1m0s\u001b[0m 2ms/step - accuracy: 0.5256 - loss: 0.7045 \n",
      "Epoch 4/10\n",
      "\u001b[1m25/25\u001b[0m \u001b[32m━━━━━━━━━━━━━━━━━━━━\u001b[0m\u001b[37m\u001b[0m \u001b[1m0s\u001b[0m 2ms/step - accuracy: 0.5173 - loss: 0.7030 \n",
      "Epoch 5/10\n",
      "\u001b[1m25/25\u001b[0m \u001b[32m━━━━━━━━━━━━━━━━━━━━\u001b[0m\u001b[37m\u001b[0m \u001b[1m0s\u001b[0m 2ms/step - accuracy: 0.5053 - loss: 0.7151 \n",
      "Epoch 6/10\n",
      "\u001b[1m25/25\u001b[0m \u001b[32m━━━━━━━━━━━━━━━━━━━━\u001b[0m\u001b[37m\u001b[0m \u001b[1m0s\u001b[0m 3ms/step - accuracy: 0.5148 - loss: 0.7049\n",
      "Epoch 7/10\n",
      "\u001b[1m25/25\u001b[0m \u001b[32m━━━━━━━━━━━━━━━━━━━━\u001b[0m\u001b[37m\u001b[0m \u001b[1m0s\u001b[0m 2ms/step - accuracy: 0.5170 - loss: 0.7081 \n",
      "Epoch 8/10\n",
      "\u001b[1m25/25\u001b[0m \u001b[32m━━━━━━━━━━━━━━━━━━━━\u001b[0m\u001b[37m\u001b[0m \u001b[1m0s\u001b[0m 2ms/step - accuracy: 0.5059 - loss: 0.7039 \n",
      "Epoch 9/10\n",
      "\u001b[1m25/25\u001b[0m \u001b[32m━━━━━━━━━━━━━━━━━━━━\u001b[0m\u001b[37m\u001b[0m \u001b[1m0s\u001b[0m 2ms/step - accuracy: 0.5232 - loss: 0.7068 \n",
      "Epoch 10/10\n",
      "\u001b[1m25/25\u001b[0m \u001b[32m━━━━━━━━━━━━━━━━━━━━\u001b[0m\u001b[37m\u001b[0m \u001b[1m0s\u001b[0m 2ms/step - accuracy: 0.5167 - loss: 0.7041 \n"
     ]
    },
    {
     "data": {
      "text/plain": [
       "<keras.src.callbacks.history.History at 0x1cc8dc235d0>"
      ]
     },
     "execution_count": 5,
     "metadata": {},
     "output_type": "execute_result"
    }
   ],
   "source": [
    "# Compile and train the model\n",
    "model.compile(optimizer = 'adam',\n",
    "             loss = tf.keras.losses.BinaryCrossentropy(from_logits=False),\n",
    "             metrics=['accuracy'])\n",
    "\n",
    "model.fit(x_train, y_train, epochs=10)\n",
    "\n",
    "# Uses Adam optimizer (adaptive learning rate).\n",
    "# Loss: Binary cross-entropy (used for binary classification).\n",
    "#from_logits=False: Output already passed through sigmoid, so don't apply another.\n",
    "# Trained for 10 epochs."
   ]
  },
  {
   "cell_type": "code",
   "execution_count": 6,
   "id": "84d516d7",
   "metadata": {
    "scrolled": true
   },
   "outputs": [
    {
     "name": "stdout",
     "output_type": "stream",
     "text": [
      "\u001b[1m7/7\u001b[0m \u001b[32m━━━━━━━━━━━━━━━━━━━━\u001b[0m\u001b[37m\u001b[0m \u001b[1m0s\u001b[0m 5ms/step - accuracy: 0.4744 - loss: 0.7087  \n",
      "Test Loss:  0.7075426578521729\n",
      "Test Accuracy:  0.48500001430511475\n"
     ]
    }
   ],
   "source": [
    "# Evaluate the model on the testing data\n",
    "loss, accuracy = model.evaluate(x_test, y_test)\n",
    "print('Test Loss: ',loss)\n",
    "print('Test Accuracy: ',accuracy)"
   ]
  },
  {
   "cell_type": "code",
   "execution_count": 7,
   "id": "e32e8d3a",
   "metadata": {},
   "outputs": [
    {
     "data": {
      "text/plain": [
       "\"model.compile(\\n    optimizer=tf.keras.optimizers.SGD(learning_rate=0.01),\\n    loss=tf.keras.losses.BinaryCrossentropy(from_logits=False),\\n    metrics=['accuracy']\\n)\\n\""
      ]
     },
     "execution_count": 7,
     "metadata": {},
     "output_type": "execute_result"
    }
   ],
   "source": [
    "# Use a Different Optimizer (SGD) =SGD is simpler but may converge slower. Useful to compare performance against Adam.\n",
    "\n",
    "'''model.compile(\n",
    "    optimizer=tf.keras.optimizers.SGD(learning_rate=0.01),\n",
    "    loss=tf.keras.losses.BinaryCrossentropy(from_logits=False),\n",
    "    metrics=['accuracy']\n",
    ")\n",
    "'''"
   ]
  },
  {
   "cell_type": "code",
   "execution_count": 8,
   "id": "6a63f457",
   "metadata": {},
   "outputs": [
    {
     "data": {
      "text/plain": [
       "\"model = tf.keras.Sequential([\\n    tf.keras.layers.Dense(1, activation='tanh', input_dim=2)\\n])\\nmodel.compile(\\n    optimizer='adam',\\n    loss='mean_squared_error',\\n    metrics=['accuracy']\\n)\\n\""
      ]
     },
     "execution_count": 8,
     "metadata": {},
     "output_type": "execute_result"
    }
   ],
   "source": [
    "# Change Activation to Tanh = tanh outputs between [-1, 1]. Used in some classification tasks, but less ideal than sigmoid for probabilities.\n",
    "'''model = tf.keras.Sequential([\n",
    "    tf.keras.layers.Dense(1, activation='tanh', input_dim=2)\n",
    "])\n",
    "model.compile(\n",
    "    optimizer='adam',\n",
    "    loss='mean_squared_error',\n",
    "    metrics=['accuracy']\n",
    ")\n",
    "'''"
   ]
  },
  {
   "cell_type": "code",
   "execution_count": 9,
   "id": "b806e687",
   "metadata": {},
   "outputs": [
    {
     "data": {
      "text/plain": [
       "\"model = tf.keras.Sequential([\\n    tf.keras.layers.Dense(8, activation='relu', input_dim=2),\\n    tf.keras.layers.Dense(1, activation='sigmoid')\\n])\\nmodel.compile(\\n    optimizer='adam',\\n    loss='binary_crossentropy',\\n    metrics=['accuracy']\\n)\""
      ]
     },
     "execution_count": 9,
     "metadata": {},
     "output_type": "execute_result"
    }
   ],
   "source": [
    "# Add a Hidden Layer (MLP) = Adding non-linearity allows it to model more complex decision boundaries (good for non-linear data).\n",
    "\n",
    "'''model = tf.keras.Sequential([\n",
    "    tf.keras.layers.Dense(8, activation='relu', input_dim=2),\n",
    "    tf.keras.layers.Dense(1, activation='sigmoid')\n",
    "])\n",
    "model.compile(\n",
    "    optimizer='adam',\n",
    "    loss='binary_crossentropy',\n",
    "    metrics=['accuracy']\n",
    ")'''"
   ]
  },
  {
   "cell_type": "code",
   "execution_count": 10,
   "id": "748e1888",
   "metadata": {},
   "outputs": [
    {
     "data": {
      "text/plain": [
       "\"# Generate multiclass data\\nx = np.random.rand(1000, 2)\\ny = np.random.randint(3, size=1000)  # Labels: 0, 1, 2\\ny = tf.keras.utils.to_categorical(y, num_classes=3)  # One-hot encoding\\n\\nx_train, x_test = x[:800], x[800:]\\ny_train, y_test = y[:800], y[800:]\\n\\n# Model for 3-class classification\\nmodel = tf.keras.Sequential([\\n    tf.keras.layers.Dense(8, activation='relu', input_dim=2),\\n    tf.keras.layers.Dense(3, activation='softmax')\\n])\\nmodel.compile(\\n    optimizer='adam',\\n    loss='categorical_crossentropy',\\n    metrics=['accuracy']\\n)\\n\""
      ]
     },
     "execution_count": 10,
     "metadata": {},
     "output_type": "execute_result"
    }
   ],
   "source": [
    "# Convert to Multiclass Classification (3 Classes) = softmax is used for multi-class output. Categorical crossentropy is the correct loss function.\n",
    "\n",
    "'''# Generate multiclass data\n",
    "x = np.random.rand(1000, 2)\n",
    "y = np.random.randint(3, size=1000)  # Labels: 0, 1, 2\n",
    "y = tf.keras.utils.to_categorical(y, num_classes=3)  # One-hot encoding\n",
    "\n",
    "x_train, x_test = x[:800], x[800:]\n",
    "y_train, y_test = y[:800], y[800:]\n",
    "\n",
    "# Model for 3-class classification\n",
    "model = tf.keras.Sequential([\n",
    "    tf.keras.layers.Dense(8, activation='relu', input_dim=2),\n",
    "    tf.keras.layers.Dense(3, activation='softmax')\n",
    "])\n",
    "model.compile(\n",
    "    optimizer='adam',\n",
    "    loss='categorical_crossentropy',\n",
    "    metrics=['accuracy']\n",
    ")\n",
    "'''"
   ]
  },
  {
   "cell_type": "code",
   "execution_count": 12,
   "id": "3bbfc3e5",
   "metadata": {},
   "outputs": [
    {
     "name": "stdout",
     "output_type": "stream",
     "text": [
      "Epoch 1/20\n",
      "\u001b[1m20/20\u001b[0m \u001b[32m━━━━━━━━━━━━━━━━━━━━\u001b[0m\u001b[37m\u001b[0m \u001b[1m0s\u001b[0m 7ms/step - accuracy: 0.5525 - loss: 0.6947 - val_accuracy: 0.4688 - val_loss: 0.7232\n",
      "Epoch 2/20\n",
      "\u001b[1m20/20\u001b[0m \u001b[32m━━━━━━━━━━━━━━━━━━━━\u001b[0m\u001b[37m\u001b[0m \u001b[1m0s\u001b[0m 5ms/step - accuracy: 0.5232 - loss: 0.6988 - val_accuracy: 0.4688 - val_loss: 0.7230\n",
      "Epoch 3/20\n",
      "\u001b[1m20/20\u001b[0m \u001b[32m━━━━━━━━━━━━━━━━━━━━\u001b[0m\u001b[37m\u001b[0m \u001b[1m0s\u001b[0m 5ms/step - accuracy: 0.5365 - loss: 0.6948 - val_accuracy: 0.4688 - val_loss: 0.7227\n",
      "Epoch 4/20\n",
      "\u001b[1m20/20\u001b[0m \u001b[32m━━━━━━━━━━━━━━━━━━━━\u001b[0m\u001b[37m\u001b[0m \u001b[1m0s\u001b[0m 5ms/step - accuracy: 0.5268 - loss: 0.7011 - val_accuracy: 0.4688 - val_loss: 0.7224\n",
      "Epoch 5/20\n",
      "\u001b[1m20/20\u001b[0m \u001b[32m━━━━━━━━━━━━━━━━━━━━\u001b[0m\u001b[37m\u001b[0m \u001b[1m0s\u001b[0m 4ms/step - accuracy: 0.5367 - loss: 0.6999 - val_accuracy: 0.4750 - val_loss: 0.7221\n",
      "Epoch 6/20\n",
      "\u001b[1m20/20\u001b[0m \u001b[32m━━━━━━━━━━━━━━━━━━━━\u001b[0m\u001b[37m\u001b[0m \u001b[1m0s\u001b[0m 4ms/step - accuracy: 0.5340 - loss: 0.6962 - val_accuracy: 0.4688 - val_loss: 0.7221\n",
      "Epoch 7/20\n",
      "\u001b[1m20/20\u001b[0m \u001b[32m━━━━━━━━━━━━━━━━━━━━\u001b[0m\u001b[37m\u001b[0m \u001b[1m0s\u001b[0m 4ms/step - accuracy: 0.5299 - loss: 0.6990 - val_accuracy: 0.4688 - val_loss: 0.7219\n",
      "Epoch 8/20\n",
      "\u001b[1m20/20\u001b[0m \u001b[32m━━━━━━━━━━━━━━━━━━━━\u001b[0m\u001b[37m\u001b[0m \u001b[1m0s\u001b[0m 4ms/step - accuracy: 0.5153 - loss: 0.7022 - val_accuracy: 0.4688 - val_loss: 0.7216\n",
      "Epoch 9/20\n",
      "\u001b[1m20/20\u001b[0m \u001b[32m━━━━━━━━━━━━━━━━━━━━\u001b[0m\u001b[37m\u001b[0m \u001b[1m0s\u001b[0m 5ms/step - accuracy: 0.5257 - loss: 0.7042 - val_accuracy: 0.4688 - val_loss: 0.7214\n",
      "Epoch 10/20\n",
      "\u001b[1m20/20\u001b[0m \u001b[32m━━━━━━━━━━━━━━━━━━━━\u001b[0m\u001b[37m\u001b[0m \u001b[1m0s\u001b[0m 5ms/step - accuracy: 0.5349 - loss: 0.7051 - val_accuracy: 0.4688 - val_loss: 0.7211\n",
      "Epoch 11/20\n",
      "\u001b[1m20/20\u001b[0m \u001b[32m━━━━━━━━━━━━━━━━━━━━\u001b[0m\u001b[37m\u001b[0m \u001b[1m0s\u001b[0m 5ms/step - accuracy: 0.5401 - loss: 0.6998 - val_accuracy: 0.4688 - val_loss: 0.7211\n",
      "Epoch 12/20\n",
      "\u001b[1m20/20\u001b[0m \u001b[32m━━━━━━━━━━━━━━━━━━━━\u001b[0m\u001b[37m\u001b[0m \u001b[1m0s\u001b[0m 4ms/step - accuracy: 0.5152 - loss: 0.7012 - val_accuracy: 0.4688 - val_loss: 0.7209\n",
      "Epoch 13/20\n",
      "\u001b[1m20/20\u001b[0m \u001b[32m━━━━━━━━━━━━━━━━━━━━\u001b[0m\u001b[37m\u001b[0m \u001b[1m0s\u001b[0m 5ms/step - accuracy: 0.5169 - loss: 0.7082 - val_accuracy: 0.4688 - val_loss: 0.7206\n",
      "Epoch 14/20\n",
      "\u001b[1m20/20\u001b[0m \u001b[32m━━━━━━━━━━━━━━━━━━━━\u001b[0m\u001b[37m\u001b[0m \u001b[1m0s\u001b[0m 5ms/step - accuracy: 0.5405 - loss: 0.6960 - val_accuracy: 0.4625 - val_loss: 0.7205\n",
      "Epoch 15/20\n",
      "\u001b[1m20/20\u001b[0m \u001b[32m━━━━━━━━━━━━━━━━━━━━\u001b[0m\u001b[37m\u001b[0m \u001b[1m0s\u001b[0m 5ms/step - accuracy: 0.5460 - loss: 0.6934 - val_accuracy: 0.4625 - val_loss: 0.7203\n",
      "Epoch 16/20\n",
      "\u001b[1m20/20\u001b[0m \u001b[32m━━━━━━━━━━━━━━━━━━━━\u001b[0m\u001b[37m\u001b[0m \u001b[1m0s\u001b[0m 5ms/step - accuracy: 0.5214 - loss: 0.6969 - val_accuracy: 0.4688 - val_loss: 0.7200\n",
      "Epoch 17/20\n",
      "\u001b[1m20/20\u001b[0m \u001b[32m━━━━━━━━━━━━━━━━━━━━\u001b[0m\u001b[37m\u001b[0m \u001b[1m0s\u001b[0m 5ms/step - accuracy: 0.5289 - loss: 0.6992 - val_accuracy: 0.4625 - val_loss: 0.7199\n",
      "Epoch 18/20\n",
      "\u001b[1m20/20\u001b[0m \u001b[32m━━━━━━━━━━━━━━━━━━━━\u001b[0m\u001b[37m\u001b[0m \u001b[1m0s\u001b[0m 5ms/step - accuracy: 0.5311 - loss: 0.6961 - val_accuracy: 0.4625 - val_loss: 0.7197\n",
      "Epoch 19/20\n",
      "\u001b[1m20/20\u001b[0m \u001b[32m━━━━━━━━━━━━━━━━━━━━\u001b[0m\u001b[37m\u001b[0m \u001b[1m0s\u001b[0m 5ms/step - accuracy: 0.5696 - loss: 0.6901 - val_accuracy: 0.4625 - val_loss: 0.7195\n",
      "Epoch 20/20\n",
      "\u001b[1m20/20\u001b[0m \u001b[32m━━━━━━━━━━━━━━━━━━━━\u001b[0m\u001b[37m\u001b[0m \u001b[1m0s\u001b[0m 5ms/step - accuracy: 0.5193 - loss: 0.6975 - val_accuracy: 0.4625 - val_loss: 0.7194\n"
     ]
    },
    {
     "data": {
      "image/png": "[encoded data removed]",
      "text/plain": [
       "<Figure size 640x480 with 1 Axes>"
      ]
     },
     "metadata": {},
     "output_type": "display_data"
    }
   ],
   "source": [
    "import matplotlib.pyplot as plt\n",
    "\n",
    "history = model.fit(x_train, y_train, epochs=20, validation_split=0.2)\n",
    "\n",
    "# Plotting\n",
    "plt.plot(history.history['loss'], label='Train Loss')\n",
    "plt.plot(history.history['val_loss'], label='Validation Loss')\n",
    "plt.xlabel('Epochs')\n",
    "plt.ylabel('Loss')\n",
    "plt.grid()\n",
    "plt.title('Loss vs Epochs')\n",
    "plt.legend()\n",
    "plt.show()"
   ]
  }
 ],
 "metadata": {
  "kernelspec": {
   "display_name": "Python 3 (ipykernel)",
   "language": "python",
   "name": "python3"
  },
  "language_info": {
   "codemirror_mode": {
    "name": "ipython",
    "version": 3
   },
   "file_extension": ".py",
   "mimetype": "text/x-python",
   "name": "python",
   "nbconvert_exporter": "python",
   "pygments_lexer": "ipython3",
   "version": "3.11.4"
  }
 },
 "nbformat": 4,
 "nbformat_minor": 5
}
