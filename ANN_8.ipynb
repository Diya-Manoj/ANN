{
 "cells": [
  {
   "cell_type": "markdown",
   "id": "40b0b577",
   "metadata": {},
   "source": [
    "## Assignment 8 - A43"
   ]
  },
  {
   "cell_type": "code",
   "execution_count": 1,
   "id": "92118825",
   "metadata": {},
   "outputs": [],
   "source": [
    "import numpy as np\n",
    "\n",
    "# Define the input vectors\n",
    "vectors = np.array([[1,1,-1,-1],\n",
    "                   [1,-1,1,-1],\n",
    "                   [-1,1,-1,1],\n",
    "                   [-1,-1,1,1]])"
   ]
  },
  {
   "cell_type": "code",
   "execution_count": 2,
   "id": "c618e793",
   "metadata": {},
   "outputs": [],
   "source": [
    "#Define the weight matrix\n",
    "weights = np.zeros((4,4))\n",
    "for i in range(4):\n",
    "    for j in range(4):\n",
    "        if i == j: # Weight matrix must be symmetric: W[i][j] = W[j][i].This guarantees convergence to a stable state (local minimum of energy function). The energy fn decreases with every iteration\n",
    "            weights[i][j] = 0\n",
    "        else:\n",
    "            weights[i][j] = (vectors[i] @ vectors[j])/4 # @ denotes the dot product.\n",
    "            \n",
    "# constructing the weight matrix using outer products.\n",
    "# Diagonal elements are zero to prevent self-feedback (i == j)- where a neuron's previous state affects its own future state, which could destabilize the network. This method stores auto-associative memory in the network. "
   ]
  },
  {
   "cell_type": "code",
   "execution_count": 3,
   "id": "13216d2d",
   "metadata": {},
   "outputs": [],
   "source": [
    "#Define the Activation function = Binary Threshold Activation ~ follows mp style outputs either 1 or -1\n",
    "def activation_function(x):\n",
    "    if x >= 0:\n",
    "        return 1\n",
    "    else:\n",
    "        return -1"
   ]
  },
  {
   "cell_type": "code",
   "execution_count": 4,
   "id": "5fc99959",
   "metadata": {},
   "outputs": [],
   "source": [
    "# Define the Hopfield Network Function - they are static (non-sequential) networks.\n",
    "def hopfield_network(x, weights):\n",
    "    y = np.copy(x)\n",
    "    for i in range(4): #async update - 1 neuron at a time\n",
    "        sum = 0\n",
    "        for j in range(4):\n",
    "            sum += weights[i][j] * y[j] # Uses weights to update each neuron-s state based on the current state of others.\n",
    "        y[i] = activation_function(sum)\n",
    "    return y # Returns the recalled pattern."
   ]
  },
  {
   "cell_type": "code",
   "execution_count": 5,
   "id": "e5b5e6b3",
   "metadata": {
    "scrolled": true
   },
   "outputs": [
    {
     "name": "stdout",
     "output_type": "stream",
     "text": [
      "Input Vector:  [ 1  1 -1 -1]\n",
      "Output Vector: [ 1  1 -1 -1] \n",
      "\n",
      "Input Vector:  [ 1 -1  1 -1]\n",
      "Output Vector: [ 1 -1  1 -1] \n",
      "\n",
      "Input Vector:  [-1  1 -1  1]\n",
      "Output Vector: [-1  1 -1  1] \n",
      "\n",
      "Input Vector:  [-1 -1  1  1]\n",
      "Output Vector: [-1 -1  1  1] \n",
      "\n"
     ]
    }
   ],
   "source": [
    "# Test the Hopfield Network Function\n",
    "for i in range(4):\n",
    "    print('Input Vector: ', vectors[i])\n",
    "    output = hopfield_network(vectors[i], weights)\n",
    "    print('Output Vector:', output,'\\n')\n",
    "    \n",
    "# Verifies if stored patterns are correctly recalled by the network."
   ]
  },
  {
   "cell_type": "code",
   "execution_count": 9,
   "id": "3050009e",
   "metadata": {},
   "outputs": [
    {
     "data": {
      "text/plain": [
       "-2.0"
      ]
     },
     "execution_count": 9,
     "metadata": {},
     "output_type": "execute_result"
    }
   ],
   "source": [
    "def energy(state, weights):\n",
    "    return -0.5 * np.sum(np.outer(state, state) * weights)\n",
    "energy(vectors[i],weights)"
   ]
  }
 ],
 "metadata": {
  "kernelspec": {
   "display_name": "Python 3 (ipykernel)",
   "language": "python",
   "name": "python3"
  },
  "language_info": {
   "codemirror_mode": {
    "name": "ipython",
    "version": 3
   },
   "file_extension": ".py",
   "mimetype": "text/x-python",
   "name": "python",
   "nbconvert_exporter": "python",
   "pygments_lexer": "ipython3",
   "version": "3.11.4"
  }
 },
 "nbformat": 4,
 "nbformat_minor": 5
}
