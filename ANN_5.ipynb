{
 "cells": [
  {
   "cell_type": "markdown",
   "id": "68002997",
   "metadata": {},
   "source": [
    "## Assignment 5 - A43"
   ]
  },
  {
   "cell_type": "code",
   "execution_count": 1,
   "id": "1497e75a",
   "metadata": {},
   "outputs": [],
   "source": [
    "import numpy as np"
   ]
  },
  {
   "cell_type": "markdown",
   "id": "b4469bea",
   "metadata": {},
   "source": [
    "#### Define BAM Network"
   ]
  },
  {
   "cell_type": "code",
   "execution_count": 2,
   "id": "972ba8c5",
   "metadata": {},
   "outputs": [],
   "source": [
    "class BAM:\n",
    "    def __init__(self, input_size, output_size): \n",
    "        self.weights = np.zeros((output_size, input_size))\n",
    "    # Initializes a weight matrix with zeros.\n",
    "    # Shape: (output_size, input_size), because:\n",
    "        # Input to Output: W × input\n",
    "        # Output to Input: W.T × output\n",
    "\n",
    "    def train(self, input_patterns, output_patterns):\n",
    "        for i in range(input_patterns.shape[0]):\n",
    "            x = input_patterns[i]\n",
    "            y = output_patterns[i]\n",
    "            self.weights += np.outer(y, x) # Hebbian Learning rule\n",
    "        # Uses outer product learning: for each pair (x, y), update W as:\n",
    "        #    𝑊+=𝑦^𝑇⋅𝑥\n",
    "        # This stores associative memory pairs bidirectionally.\n",
    "\n",
    "    def recall_input(self, output_patterns):\n",
    "        return np.dot(self.weights.T, output_patterns)\n",
    "\n",
    "    def recall_output(self, input_patterns):\n",
    "        return np.dot(self.weights, input_patterns)\n",
    "    # Performs output recall given an input using matrix multiplication."
   ]
  },
  {
   "cell_type": "markdown",
   "id": "e19395c2",
   "metadata": {},
   "source": [
    "#### Implement BAM Network"
   ]
  },
  {
   "cell_type": "code",
   "execution_count": 3,
   "id": "c1add3cb",
   "metadata": {},
   "outputs": [],
   "source": [
    "input_size = 2\n",
    "output_size = 2\n",
    "bam = BAM(input_size, output_size)"
   ]
  },
  {
   "cell_type": "markdown",
   "id": "4becefce",
   "metadata": {},
   "source": [
    "### Train the Network"
   ]
  },
  {
   "cell_type": "code",
   "execution_count": 4,
   "id": "35ddbed9",
   "metadata": {},
   "outputs": [],
   "source": [
    "input_patterns = np.array([[1, -1], [-1, 1]])\n",
    "output_patterns = np.array([[-1, 1], [1, -1]])\n",
    "bam.train(input_patterns, output_patterns)"
   ]
  },
  {
   "cell_type": "markdown",
   "id": "0c5d800c",
   "metadata": {},
   "source": [
    "### Test input to output"
   ]
  },
  {
   "cell_type": "code",
   "execution_count": 5,
   "id": "6e0cdf44",
   "metadata": {},
   "outputs": [
    {
     "name": "stdout",
     "output_type": "stream",
     "text": [
      "Input:  [ 1 -1]\n",
      "Recalled Output:  [-4.  4.]\n"
     ]
    }
   ],
   "source": [
    "test_input = np.array([1, -1])\n",
    "output_recall = bam.recall_output(test_input)\n",
    "print('Input: ', test_input)\n",
    "print('Recalled Output: ', output_recall)"
   ]
  },
  {
   "cell_type": "markdown",
   "id": "21342cbb",
   "metadata": {},
   "source": [
    "### Test output to input"
   ]
  },
  {
   "cell_type": "code",
   "execution_count": 7,
   "id": "61d27e1f",
   "metadata": {},
   "outputs": [
    {
     "name": "stdout",
     "output_type": "stream",
     "text": [
      "Input Recall:  [-4.  4.]\n",
      "Recalled Output:  [ 1 -1]\n"
     ]
    }
   ],
   "source": [
    "test_output = np.array([1,-1])\n",
    "input_recall = bam.recall_input(test_output)\n",
    "print('Input Recall: ', input_recall)\n",
    "print('Recalled Output: ', test_output)"
   ]
  },
  {
   "cell_type": "markdown",
   "id": "fac9df23",
   "metadata": {},
   "source": [
    "the condition for BAM to recall correctly?\n",
    "* Input and output vectors must be bipolar (+1, -1).\n",
    "  Bipolar representation helps in:\n",
    "     * Mathematical stability during recall.\n",
    "     * Reducing ambiguity and overlapping associations.\n",
    "* Patterns should be orthogonal or sufficiently different to avoid interference (crosstalk)."
   ]
  },
  {
   "cell_type": "code",
   "execution_count": 8,
   "id": "80dc3afd",
   "metadata": {},
   "outputs": [
    {
     "name": "stdout",
     "output_type": "stream",
     "text": [
      "Noisy Input Recall Output: [0. 0.]\n"
     ]
    }
   ],
   "source": [
    "noisy_input = np.array([1, 1])  # slightly noisy version of [1, -1]\n",
    "print(\"Noisy Input Recall Output:\", bam.recall_output(noisy_input))"
   ]
  },
  {
   "cell_type": "code",
   "execution_count": 9,
   "id": "92421f2d",
   "metadata": {},
   "outputs": [
    {
     "name": "stdout",
     "output_type": "stream",
     "text": [
      "Input: [ 1 -1], Recalled Output: [-4.  4.]\n",
      "Input: [-1  1], Recalled Output: [ 4. -4.]\n"
     ]
    }
   ],
   "source": [
    "for i in range(len(input_patterns)):\n",
    "    out = bam.recall_output(input_patterns[i])\n",
    "    print(f\"Input: {input_patterns[i]}, Recalled Output: {out}\")"
   ]
  },
  {
   "cell_type": "code",
   "execution_count": 10,
   "id": "dcfb01f2",
   "metadata": {},
   "outputs": [
    {
     "name": "stdout",
     "output_type": "stream",
     "text": [
      "Test Input: [ 1 -1  1]\n",
      "Recalled Output: [1 1]\n",
      "Test Output: [1 1]\n",
      "Recalled Input: [ 1 -1  1]\n"
     ]
    }
   ],
   "source": [
    "# Updated BAM Code for Higher-Dimensional Patterns\n",
    "\n",
    "import numpy as np\n",
    "\n",
    "# Sign function to threshold recall output\n",
    "def sign(x):\n",
    "    return np.where(x >= 0, 1, -1)\n",
    "\n",
    "class BAM:\n",
    "    def __init__(self, input_size, output_size): \n",
    "        # Create weight matrix (output_size x input_size)\n",
    "        self.weights = np.zeros((output_size, input_size))\n",
    "\n",
    "    def train(self, input_patterns, output_patterns):\n",
    "        for i in range(input_patterns.shape[0]):\n",
    "            x = input_patterns[i]\n",
    "            y = output_patterns[i]\n",
    "            self.weights += np.outer(y, x)  # Hebbian Learning rule\n",
    "\n",
    "    def recall_input(self, output_pattern):\n",
    "        # Transpose weights for output-to-input direction\n",
    "        return sign(np.dot(self.weights.T, output_pattern))\n",
    "\n",
    "    def recall_output(self, input_pattern):\n",
    "        return sign(np.dot(self.weights, input_pattern))\n",
    "\n",
    "# More complex patterns\n",
    "input_patterns = np.array([\n",
    "    [1, -1, 1],\n",
    "    [-1, 1, -1]\n",
    "])\n",
    "\n",
    "output_patterns = np.array([\n",
    "    [1, 1],\n",
    "    [-1, -1]\n",
    "])\n",
    "\n",
    "# Initialize with new sizes\n",
    "bam = BAM(input_size=3, output_size=2)\n",
    "bam.train(input_patterns, output_patterns)\n",
    "\n",
    "# Test recall from input\n",
    "test_input = np.array([1, -1, 1])\n",
    "recalled_output = bam.recall_output(test_input)\n",
    "print(\"Test Input:\", test_input)\n",
    "print(\"Recalled Output:\", recalled_output)\n",
    "\n",
    "# Test recall from output\n",
    "test_output = np.array([1, 1])\n",
    "recalled_input = bam.recall_input(test_output)\n",
    "print(\"Test Output:\", test_output)\n",
    "print(\"Recalled Input:\", recalled_input)"
   ]
  },
  {
   "cell_type": "markdown",
   "id": "bd7e58ba",
   "metadata": {},
   "source": [
    "BAM is an associative memory, not a classifier:\n",
    "\n",
    "* It's not predicting labels.\n",
    "\n",
    "* It's recalling the associated pattern.\n",
    "So it’s great for pattern restoration, image recall, etc."
   ]
  },
  {
   "cell_type": "code",
   "execution_count": null,
   "id": "3d9c18bc",
   "metadata": {},
   "outputs": [],
   "source": []
  }
 ],
 "metadata": {
  "kernelspec": {
   "display_name": "Python 3 (ipykernel)",
   "language": "python",
   "name": "python3"
  },
  "language_info": {
   "codemirror_mode": {
    "name": "ipython",
    "version": 3
   },
   "file_extension": ".py",
   "mimetype": "text/x-python",
   "name": "python",
   "nbconvert_exporter": "python",
   "pygments_lexer": "ipython3",
   "version": "3.11.4"
  }
 },
 "nbformat": 4,
 "nbformat_minor": 5
}
