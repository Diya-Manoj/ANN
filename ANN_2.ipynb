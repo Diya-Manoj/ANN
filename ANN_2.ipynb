{
 "cells": [
  {
   "cell_type": "code",
   "execution_count": 1,
   "id": "387cedcf",
   "metadata": {},
   "outputs": [],
   "source": [
    "import numpy as np"
   ]
  },
  {
   "cell_type": "code",
   "execution_count": 2,
   "id": "8b092f69",
   "metadata": {},
   "outputs": [],
   "source": [
    "def mp_neuron(inputs, weights, threshold):\n",
    "    net = np.dot(inputs, weights)\n",
    "    if net >= threshold:\n",
    "        return 1\n",
    "    else:\n",
    "        return 0"
   ]
  },
  {
   "cell_type": "code",
   "execution_count": 3,
   "id": "a9ea8bb4",
   "metadata": {},
   "outputs": [],
   "source": [
    "def andnot_nn(inputs):\n",
    "    # Ensure inputs is a 1D array of shape (2,)\n",
    "    inputs = inputs.flatten()\n",
    "\n",
    "    # Neuron 1: Detects A == 1\n",
    "    # Neuron 2: Detects B == 0 (i.e., -1 * B >= 0)\n",
    "    outputs = [\n",
    "        mp_neuron(inputs, [1, 0], 1),   # A\n",
    "        mp_neuron(inputs, [0, -1], 0)   # NOT B\n",
    "    ]\n",
    "\n",
    "    # AND operation on neuron outputs\n",
    "    if outputs == [1, 1]:\n",
    "        return 1\n",
    "    else:\n",
    "        return 0"
   ]
  },
  {
   "cell_type": "code",
   "execution_count": 4,
   "id": "b2840ffd",
   "metadata": {},
   "outputs": [
    {
     "name": "stdout",
     "output_type": "stream",
     "text": [
      "Inputs: [[0 0]\n",
      " [0 1]\n",
      " [1 0]\n",
      " [1 1]]\n",
      "Outputs: [0, 0, 1, 0]\n"
     ]
    }
   ],
   "source": [
    "# Input combinations for A, B\n",
    "inputs = np.array([[0, 0], [0, 1], [1, 0], [1, 1]])\n",
    "outputs = []\n",
    "\n",
    "# Evaluate each input\n",
    "for i in range(inputs.shape[0]):\n",
    "    y = andnot_nn(inputs[i])  # Note: passing row directly, not reshaped\n",
    "    outputs.append(y)\n",
    "\n",
    "print(\"Inputs:\", inputs)\n",
    "print(\"Outputs:\", outputs)"
   ]
  },
  {
   "cell_type": "code",
   "execution_count": 7,
   "id": "89ce7151",
   "metadata": {},
   "outputs": [
    {
     "name": "stdout",
     "output_type": "stream",
     "text": [
      "Inputs: [[0 0]\n",
      " [0 1]\n",
      " [1 0]\n",
      " [1 1]]\n",
      "Outputs: [0, 0, 1, 0]\n"
     ]
    }
   ],
   "source": [
    "def single_andnot_nn(inputs):\n",
    "    return mp_neuron(inputs, [1, -1], 1)\n",
    "# Input combinations for A, B\n",
    "inputs = np.array([[0, 0], [0, 1], [1, 0], [1, 1]])\n",
    "outputs = []\n",
    "\n",
    "# Evaluate each input\n",
    "for i in range(inputs.shape[0]):\n",
    "    y = single_andnot_nn(inputs[i])  # Note: passing row directly, not reshaped\n",
    "    outputs.append(y)\n",
    "\n",
    "print(\"Inputs:\", inputs)\n",
    "print(\"Outputs:\", outputs)"
   ]
  },
  {
   "cell_type": "code",
   "execution_count": 8,
   "id": "0729c97a",
   "metadata": {},
   "outputs": [
    {
     "name": "stdout",
     "output_type": "stream",
     "text": [
      "\n",
      "AND gate:\n",
      "[0 0] => 0\n",
      "[0 1] => 0\n",
      "[1 0] => 0\n",
      "[1 1] => 1\n",
      "\n",
      "OR gate:\n",
      "[0 0] => 0\n",
      "[0 1] => 1\n",
      "[1 0] => 1\n",
      "[1 1] => 1\n",
      "\n",
      "NAND gate:\n",
      "[0 0] => 1\n",
      "[0 1] => 1\n",
      "[1 0] => 1\n",
      "[1 1] => 0\n",
      "\n",
      "NOR gate:\n",
      "[0 0] => 1\n",
      "[0 1] => 0\n",
      "[1 0] => 0\n",
      "[1 1] => 0\n",
      "\n",
      "AND NOT gate:\n",
      "[0 0] => 0\n",
      "[0 1] => 0\n",
      "[1 0] => 1\n",
      "[1 1] => 0\n"
     ]
    }
   ],
   "source": [
    "def logic_gate(inputs, weights, threshold):\n",
    "    return mp_neuron(inputs, weights, threshold)\n",
    "\n",
    "# Define gates\n",
    "gates = {\n",
    "    \"AND\": ([1, 1], 2),\n",
    "    \"OR\": ([1, 1], 1),\n",
    "    \"NAND\": ([-1, -1], -1),\n",
    "    \"NOR\": ([-1, -1], 0),\n",
    "    \"AND NOT\": ([1, -1], 1)\n",
    "}\n",
    "\n",
    "for name, (w, t) in gates.items():\n",
    "    print(f\"\\n{name} gate:\")\n",
    "    for inp in inputs:\n",
    "        print(f\"{inp} => {logic_gate(inp, w, t)}\")"
   ]
  },
  {
   "cell_type": "code",
   "execution_count": null,
   "id": "407a0195",
   "metadata": {},
   "outputs": [],
   "source": []
  }
 ],
 "metadata": {
  "kernelspec": {
   "display_name": "Python 3 (ipykernel)",
   "language": "python",
   "name": "python3"
  },
  "language_info": {
   "codemirror_mode": {
    "name": "ipython",
    "version": 3
   },
   "file_extension": ".py",
   "mimetype": "text/x-python",
   "name": "python",
   "nbconvert_exporter": "python",
   "pygments_lexer": "ipython3",
   "version": "3.11.4"
  }
 },
 "nbformat": 4,
 "nbformat_minor": 5
}
